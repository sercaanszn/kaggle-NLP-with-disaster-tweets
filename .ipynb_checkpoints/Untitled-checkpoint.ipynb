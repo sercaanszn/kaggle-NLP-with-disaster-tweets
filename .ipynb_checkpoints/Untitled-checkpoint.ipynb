{
 "cells": [
  {
   "cell_type": "code",
   "execution_count": 102,
   "id": "c830a520",
   "metadata": {},
   "outputs": [],
   "source": [
    "import numpy as np # linear algebra\n",
    "import pandas as pd # data processing, CSV file I/O (e.g. pd.read_csv)\n",
    "import matplotlib.pyplot as plt\n",
    "import seaborn as sns\n",
    "from tqdm.notebook import tqdm\n",
    "import tensorflow as tf\n",
    "from sklearn.feature_extraction.text import CountVectorizer\n",
    "from sklearn.feature_extraction.text import TfidfVectorizer\n",
    "from matplotlib import pyplot as plt"
   ]
  },
  {
   "cell_type": "code",
   "execution_count": 208,
   "id": "977ca690",
   "metadata": {
    "scrolled": true
   },
   "outputs": [
    {
     "name": "stdout",
     "output_type": "stream",
     "text": [
      "7613\n",
      "7503\n",
      "0    4307\n",
      "1    3196\n",
      "Name: target, dtype: int64\n"
     ]
    }
   ],
   "source": [
    "train_df = pd.read_csv(r\"C:\\Users\\Sercan\\Desktop\\MLProject\\train.csv\")\n",
    "test_df =  pd.read_csv(r\"C:\\Users\\Sercan\\Desktop\\MLProject\\test.csv\")\n",
    "\n",
    "print(len(train_df))\n",
    "train_df = train_df.drop_duplicates('text', keep='last')\n",
    "print(len(train_df))\n",
    "\n",
    "print(train_df['target'].value_counts())\n"
   ]
  },
  {
   "cell_type": "markdown",
   "id": "e8bff62f",
   "metadata": {},
   "source": [
    "# Text Preprocessing\n"
   ]
  },
  {
   "cell_type": "code",
   "execution_count": 209,
   "id": "9b30974f",
   "metadata": {},
   "outputs": [],
   "source": [
    "EMOJIS = {':)': 'smile', ':-)': 'smile', ';d': 'wink', ':-E': 'vampire', ':(': 'sad', \n",
    "          ':-(': 'sad', ':-<': 'sad', ':P': 'raspberry', ':O': 'surprised',\n",
    "          ':-@': 'shocked', ':@': 'shocked',':-$': 'confused', ':\\\\': 'annoyed', \n",
    "          ':#': 'mute', ':X': 'mute', ':^)': 'smile', ':-&': 'confused', '$_$': 'greedy',\n",
    "          '@@': 'eyeroll', ':-!': 'confused', ':-D': 'smile', ':-0': 'yell', 'O.o': 'confused',\n",
    "          '<(-_-)>': 'robot', 'd[-_-]b': 'dj', \":'-)\": 'sadsmile', ';)': 'wink', \n",
    "          ';-)': 'wink', 'O:-)': 'angel','O*-)': 'angel','(:-D': 'gossip', '=^.^=': 'cat'}\n",
    "\n",
    "URLPATTERN        = r\"((http://)[^ ]*|(https://)[^ ]*|( www\\.)[^ ]*)\"\n",
    "\n",
    "USERPATTERN       = '@[^\\s]+'\n",
    "\n",
    "SEQPATTERN   = r\"(.)\\1\\1+\"\n",
    "\n",
    "SEQREPLACE = r\"\\1\\1\""
   ]
  },
  {
   "cell_type": "code",
   "execution_count": 210,
   "id": "59227b95",
   "metadata": {},
   "outputs": [],
   "source": [
    "from nltk.stem import WordNetLemmatizer\n",
    "from nltk.stem.porter import PorterStemmer as ps\n",
    "from nltk.corpus import stopwords\n",
    "import nltk\n",
    "#nltk.download('wordnet')\n",
    "wordLemm = WordNetLemmatizer()\n",
    "ps = ps()"
   ]
  },
  {
   "cell_type": "code",
   "execution_count": 211,
   "id": "f40a5ff9",
   "metadata": {},
   "outputs": [],
   "source": [
    "import re\n",
    "\n",
    "def preprocess_text(text):\n",
    "    text = re.sub(r\"http\\S+\", \" \", text)\n",
    "    \n",
    "    text = re.sub(URLPATTERN,' ',text)\n",
    "    \n",
    "    for emoji in EMOJIS.keys():\n",
    "        text = text.replace(emoji, \"EMOJI\" + EMOJIS[emoji])  \n",
    "    \n",
    "    text = re.sub(USERPATTERN,\" \",text)\n",
    "    \n",
    "    text = re.sub('[^a-zA-z]',\" \",text)\n",
    "    \n",
    "    text = re.sub(SEQPATTERN,SEQREPLACE,text)\n",
    "    text = text.lower()\n",
    "    text = text.split()\n",
    "    #text = [wordLemm.lemmatize(word) for word in text if not word in stopwords.words('english') and len(word) > 1]\n",
    "    text = [ps.stem(word) for word in text if not word in set(stopwords.words('english'))]\n",
    "    text = ' '.join(text)\n",
    "    return text"
   ]
  },
  {
   "cell_type": "code",
   "execution_count": 213,
   "id": "6dcecd66",
   "metadata": {},
   "outputs": [
    {
     "data": {
      "text/html": [
       "<div>\n",
       "<style scoped>\n",
       "    .dataframe tbody tr th:only-of-type {\n",
       "        vertical-align: middle;\n",
       "    }\n",
       "\n",
       "    .dataframe tbody tr th {\n",
       "        vertical-align: top;\n",
       "    }\n",
       "\n",
       "    .dataframe thead th {\n",
       "        text-align: right;\n",
       "    }\n",
       "</style>\n",
       "<table border=\"1\" class=\"dataframe\">\n",
       "  <thead>\n",
       "    <tr style=\"text-align: right;\">\n",
       "      <th></th>\n",
       "      <th>id</th>\n",
       "      <th>keyword</th>\n",
       "      <th>location</th>\n",
       "      <th>text</th>\n",
       "      <th>target</th>\n",
       "    </tr>\n",
       "  </thead>\n",
       "  <tbody>\n",
       "    <tr>\n",
       "      <th>0</th>\n",
       "      <td>1</td>\n",
       "      <td>NaN</td>\n",
       "      <td>NaN</td>\n",
       "      <td>Our Deeds are the Reason of this #earthquake M...</td>\n",
       "      <td>1</td>\n",
       "    </tr>\n",
       "    <tr>\n",
       "      <th>1</th>\n",
       "      <td>4</td>\n",
       "      <td>NaN</td>\n",
       "      <td>NaN</td>\n",
       "      <td>Forest fire near La Ronge Sask. Canada</td>\n",
       "      <td>1</td>\n",
       "    </tr>\n",
       "    <tr>\n",
       "      <th>2</th>\n",
       "      <td>5</td>\n",
       "      <td>NaN</td>\n",
       "      <td>NaN</td>\n",
       "      <td>All residents asked to 'shelter in place' are ...</td>\n",
       "      <td>1</td>\n",
       "    </tr>\n",
       "    <tr>\n",
       "      <th>3</th>\n",
       "      <td>6</td>\n",
       "      <td>NaN</td>\n",
       "      <td>NaN</td>\n",
       "      <td>13,000 people receive #wildfires evacuation or...</td>\n",
       "      <td>1</td>\n",
       "    </tr>\n",
       "    <tr>\n",
       "      <th>4</th>\n",
       "      <td>7</td>\n",
       "      <td>NaN</td>\n",
       "      <td>NaN</td>\n",
       "      <td>Just got sent this photo from Ruby #Alaska as ...</td>\n",
       "      <td>1</td>\n",
       "    </tr>\n",
       "    <tr>\n",
       "      <th>5</th>\n",
       "      <td>8</td>\n",
       "      <td>NaN</td>\n",
       "      <td>NaN</td>\n",
       "      <td>#RockyFire Update =&gt; California Hwy. 20 closed...</td>\n",
       "      <td>1</td>\n",
       "    </tr>\n",
       "    <tr>\n",
       "      <th>6</th>\n",
       "      <td>10</td>\n",
       "      <td>NaN</td>\n",
       "      <td>NaN</td>\n",
       "      <td>#flood #disaster Heavy rain causes flash flood...</td>\n",
       "      <td>1</td>\n",
       "    </tr>\n",
       "    <tr>\n",
       "      <th>7</th>\n",
       "      <td>13</td>\n",
       "      <td>NaN</td>\n",
       "      <td>NaN</td>\n",
       "      <td>I'm on top of the hill and I can see a fire in...</td>\n",
       "      <td>1</td>\n",
       "    </tr>\n",
       "    <tr>\n",
       "      <th>8</th>\n",
       "      <td>14</td>\n",
       "      <td>NaN</td>\n",
       "      <td>NaN</td>\n",
       "      <td>There's an emergency evacuation happening now ...</td>\n",
       "      <td>1</td>\n",
       "    </tr>\n",
       "    <tr>\n",
       "      <th>9</th>\n",
       "      <td>15</td>\n",
       "      <td>NaN</td>\n",
       "      <td>NaN</td>\n",
       "      <td>I'm afraid that the tornado is coming to our a...</td>\n",
       "      <td>1</td>\n",
       "    </tr>\n",
       "  </tbody>\n",
       "</table>\n",
       "</div>"
      ],
      "text/plain": [
       "   id keyword location                                               text  \\\n",
       "0   1     NaN      NaN  Our Deeds are the Reason of this #earthquake M...   \n",
       "1   4     NaN      NaN             Forest fire near La Ronge Sask. Canada   \n",
       "2   5     NaN      NaN  All residents asked to 'shelter in place' are ...   \n",
       "3   6     NaN      NaN  13,000 people receive #wildfires evacuation or...   \n",
       "4   7     NaN      NaN  Just got sent this photo from Ruby #Alaska as ...   \n",
       "5   8     NaN      NaN  #RockyFire Update => California Hwy. 20 closed...   \n",
       "6  10     NaN      NaN  #flood #disaster Heavy rain causes flash flood...   \n",
       "7  13     NaN      NaN  I'm on top of the hill and I can see a fire in...   \n",
       "8  14     NaN      NaN  There's an emergency evacuation happening now ...   \n",
       "9  15     NaN      NaN  I'm afraid that the tornado is coming to our a...   \n",
       "\n",
       "   target  \n",
       "0       1  \n",
       "1       1  \n",
       "2       1  \n",
       "3       1  \n",
       "4       1  \n",
       "5       1  \n",
       "6       1  \n",
       "7       1  \n",
       "8       1  \n",
       "9       1  "
      ]
     },
     "execution_count": 213,
     "metadata": {},
     "output_type": "execute_result"
    }
   ],
   "source": [
    "train_df.head(10)"
   ]
  },
  {
   "cell_type": "code",
   "execution_count": 214,
   "id": "19c56955",
   "metadata": {},
   "outputs": [],
   "source": [
    "train_df['text'] = train_df['text'].apply(preprocess_text) \n",
    "#test_df ['text'] = test_df['text'].apply(preprocess_text)"
   ]
  },
  {
   "cell_type": "code",
   "execution_count": 215,
   "id": "4f3ac981",
   "metadata": {},
   "outputs": [
    {
     "data": {
      "text/html": [
       "<div>\n",
       "<style scoped>\n",
       "    .dataframe tbody tr th:only-of-type {\n",
       "        vertical-align: middle;\n",
       "    }\n",
       "\n",
       "    .dataframe tbody tr th {\n",
       "        vertical-align: top;\n",
       "    }\n",
       "\n",
       "    .dataframe thead th {\n",
       "        text-align: right;\n",
       "    }\n",
       "</style>\n",
       "<table border=\"1\" class=\"dataframe\">\n",
       "  <thead>\n",
       "    <tr style=\"text-align: right;\">\n",
       "      <th></th>\n",
       "      <th>id</th>\n",
       "      <th>keyword</th>\n",
       "      <th>location</th>\n",
       "      <th>text</th>\n",
       "      <th>target</th>\n",
       "    </tr>\n",
       "  </thead>\n",
       "  <tbody>\n",
       "    <tr>\n",
       "      <th>0</th>\n",
       "      <td>1</td>\n",
       "      <td>NaN</td>\n",
       "      <td>NaN</td>\n",
       "      <td>deed reason earthquak may allah forgiv u</td>\n",
       "      <td>1</td>\n",
       "    </tr>\n",
       "    <tr>\n",
       "      <th>1</th>\n",
       "      <td>4</td>\n",
       "      <td>NaN</td>\n",
       "      <td>NaN</td>\n",
       "      <td>forest fire near la rong sask canada</td>\n",
       "      <td>1</td>\n",
       "    </tr>\n",
       "    <tr>\n",
       "      <th>2</th>\n",
       "      <td>5</td>\n",
       "      <td>NaN</td>\n",
       "      <td>NaN</td>\n",
       "      <td>resid ask shelter place notifi offic evacu she...</td>\n",
       "      <td>1</td>\n",
       "    </tr>\n",
       "    <tr>\n",
       "      <th>3</th>\n",
       "      <td>6</td>\n",
       "      <td>NaN</td>\n",
       "      <td>NaN</td>\n",
       "      <td>peopl receiv wildfir evacu order california</td>\n",
       "      <td>1</td>\n",
       "    </tr>\n",
       "    <tr>\n",
       "      <th>4</th>\n",
       "      <td>7</td>\n",
       "      <td>NaN</td>\n",
       "      <td>NaN</td>\n",
       "      <td>got sent photo rubi alaska smoke wildfir pour ...</td>\n",
       "      <td>1</td>\n",
       "    </tr>\n",
       "    <tr>\n",
       "      <th>5</th>\n",
       "      <td>8</td>\n",
       "      <td>NaN</td>\n",
       "      <td>NaN</td>\n",
       "      <td>rockyfir updat california hwi close direct due...</td>\n",
       "      <td>1</td>\n",
       "    </tr>\n",
       "    <tr>\n",
       "      <th>6</th>\n",
       "      <td>10</td>\n",
       "      <td>NaN</td>\n",
       "      <td>NaN</td>\n",
       "      <td>flood disast heavi rain caus flash flood stree...</td>\n",
       "      <td>1</td>\n",
       "    </tr>\n",
       "    <tr>\n",
       "      <th>7</th>\n",
       "      <td>13</td>\n",
       "      <td>NaN</td>\n",
       "      <td>NaN</td>\n",
       "      <td>top hill see fire wood</td>\n",
       "      <td>1</td>\n",
       "    </tr>\n",
       "    <tr>\n",
       "      <th>8</th>\n",
       "      <td>14</td>\n",
       "      <td>NaN</td>\n",
       "      <td>NaN</td>\n",
       "      <td>emerg evacu happen build across street</td>\n",
       "      <td>1</td>\n",
       "    </tr>\n",
       "    <tr>\n",
       "      <th>9</th>\n",
       "      <td>15</td>\n",
       "      <td>NaN</td>\n",
       "      <td>NaN</td>\n",
       "      <td>afraid tornado come area</td>\n",
       "      <td>1</td>\n",
       "    </tr>\n",
       "  </tbody>\n",
       "</table>\n",
       "</div>"
      ],
      "text/plain": [
       "   id keyword location                                               text  \\\n",
       "0   1     NaN      NaN           deed reason earthquak may allah forgiv u   \n",
       "1   4     NaN      NaN               forest fire near la rong sask canada   \n",
       "2   5     NaN      NaN  resid ask shelter place notifi offic evacu she...   \n",
       "3   6     NaN      NaN        peopl receiv wildfir evacu order california   \n",
       "4   7     NaN      NaN  got sent photo rubi alaska smoke wildfir pour ...   \n",
       "5   8     NaN      NaN  rockyfir updat california hwi close direct due...   \n",
       "6  10     NaN      NaN  flood disast heavi rain caus flash flood stree...   \n",
       "7  13     NaN      NaN                             top hill see fire wood   \n",
       "8  14     NaN      NaN             emerg evacu happen build across street   \n",
       "9  15     NaN      NaN                           afraid tornado come area   \n",
       "\n",
       "   target  \n",
       "0       1  \n",
       "1       1  \n",
       "2       1  \n",
       "3       1  \n",
       "4       1  \n",
       "5       1  \n",
       "6       1  \n",
       "7       1  \n",
       "8       1  \n",
       "9       1  "
      ]
     },
     "execution_count": 215,
     "metadata": {},
     "output_type": "execute_result"
    }
   ],
   "source": [
    "train_df.head(10)"
   ]
  },
  {
   "cell_type": "markdown",
   "id": "5efcdee9",
   "metadata": {},
   "source": [
    "# Vectorizing Words\n"
   ]
  },
  {
   "cell_type": "code",
   "execution_count": 131,
   "id": "8469c041",
   "metadata": {},
   "outputs": [
    {
     "data": {
      "text/html": [
       "<div>\n",
       "<style scoped>\n",
       "    .dataframe tbody tr th:only-of-type {\n",
       "        vertical-align: middle;\n",
       "    }\n",
       "\n",
       "    .dataframe tbody tr th {\n",
       "        vertical-align: top;\n",
       "    }\n",
       "\n",
       "    .dataframe thead th {\n",
       "        text-align: right;\n",
       "    }\n",
       "</style>\n",
       "<table border=\"1\" class=\"dataframe\">\n",
       "  <thead>\n",
       "    <tr style=\"text-align: right;\">\n",
       "      <th></th>\n",
       "      <th>id</th>\n",
       "      <th>keyword</th>\n",
       "      <th>location</th>\n",
       "      <th>text</th>\n",
       "    </tr>\n",
       "  </thead>\n",
       "  <tbody>\n",
       "    <tr>\n",
       "      <th>0</th>\n",
       "      <td>0</td>\n",
       "      <td>NaN</td>\n",
       "      <td>NaN</td>\n",
       "      <td>Just happened a terrible car crash</td>\n",
       "    </tr>\n",
       "    <tr>\n",
       "      <th>1</th>\n",
       "      <td>2</td>\n",
       "      <td>NaN</td>\n",
       "      <td>NaN</td>\n",
       "      <td>Heard about #earthquake is different cities, s...</td>\n",
       "    </tr>\n",
       "    <tr>\n",
       "      <th>2</th>\n",
       "      <td>3</td>\n",
       "      <td>NaN</td>\n",
       "      <td>NaN</td>\n",
       "      <td>there is a forest fire at spot pond, geese are...</td>\n",
       "    </tr>\n",
       "    <tr>\n",
       "      <th>3</th>\n",
       "      <td>9</td>\n",
       "      <td>NaN</td>\n",
       "      <td>NaN</td>\n",
       "      <td>Apocalypse lighting. #Spokane #wildfires</td>\n",
       "    </tr>\n",
       "    <tr>\n",
       "      <th>4</th>\n",
       "      <td>11</td>\n",
       "      <td>NaN</td>\n",
       "      <td>NaN</td>\n",
       "      <td>Typhoon Soudelor kills 28 in China and Taiwan</td>\n",
       "    </tr>\n",
       "    <tr>\n",
       "      <th>5</th>\n",
       "      <td>12</td>\n",
       "      <td>NaN</td>\n",
       "      <td>NaN</td>\n",
       "      <td>We're shaking...It's an earthquake</td>\n",
       "    </tr>\n",
       "    <tr>\n",
       "      <th>6</th>\n",
       "      <td>21</td>\n",
       "      <td>NaN</td>\n",
       "      <td>NaN</td>\n",
       "      <td>They'd probably still show more life than Arse...</td>\n",
       "    </tr>\n",
       "    <tr>\n",
       "      <th>7</th>\n",
       "      <td>22</td>\n",
       "      <td>NaN</td>\n",
       "      <td>NaN</td>\n",
       "      <td>Hey! How are you?</td>\n",
       "    </tr>\n",
       "    <tr>\n",
       "      <th>8</th>\n",
       "      <td>27</td>\n",
       "      <td>NaN</td>\n",
       "      <td>NaN</td>\n",
       "      <td>What a nice hat?</td>\n",
       "    </tr>\n",
       "    <tr>\n",
       "      <th>9</th>\n",
       "      <td>29</td>\n",
       "      <td>NaN</td>\n",
       "      <td>NaN</td>\n",
       "      <td>Fuck off!</td>\n",
       "    </tr>\n",
       "    <tr>\n",
       "      <th>10</th>\n",
       "      <td>30</td>\n",
       "      <td>NaN</td>\n",
       "      <td>NaN</td>\n",
       "      <td>No I don't like cold!</td>\n",
       "    </tr>\n",
       "    <tr>\n",
       "      <th>11</th>\n",
       "      <td>35</td>\n",
       "      <td>NaN</td>\n",
       "      <td>NaN</td>\n",
       "      <td>NOOOOOOOOO! Don't do that!</td>\n",
       "    </tr>\n",
       "    <tr>\n",
       "      <th>12</th>\n",
       "      <td>42</td>\n",
       "      <td>NaN</td>\n",
       "      <td>NaN</td>\n",
       "      <td>No don't tell me that!</td>\n",
       "    </tr>\n",
       "    <tr>\n",
       "      <th>13</th>\n",
       "      <td>43</td>\n",
       "      <td>NaN</td>\n",
       "      <td>NaN</td>\n",
       "      <td>What if?!</td>\n",
       "    </tr>\n",
       "    <tr>\n",
       "      <th>14</th>\n",
       "      <td>45</td>\n",
       "      <td>NaN</td>\n",
       "      <td>NaN</td>\n",
       "      <td>Awesome!</td>\n",
       "    </tr>\n",
       "  </tbody>\n",
       "</table>\n",
       "</div>"
      ],
      "text/plain": [
       "    id keyword location                                               text\n",
       "0    0     NaN      NaN                 Just happened a terrible car crash\n",
       "1    2     NaN      NaN  Heard about #earthquake is different cities, s...\n",
       "2    3     NaN      NaN  there is a forest fire at spot pond, geese are...\n",
       "3    9     NaN      NaN           Apocalypse lighting. #Spokane #wildfires\n",
       "4   11     NaN      NaN      Typhoon Soudelor kills 28 in China and Taiwan\n",
       "5   12     NaN      NaN                 We're shaking...It's an earthquake\n",
       "6   21     NaN      NaN  They'd probably still show more life than Arse...\n",
       "7   22     NaN      NaN                                  Hey! How are you?\n",
       "8   27     NaN      NaN                                   What a nice hat?\n",
       "9   29     NaN      NaN                                          Fuck off!\n",
       "10  30     NaN      NaN                              No I don't like cold!\n",
       "11  35     NaN      NaN                         NOOOOOOOOO! Don't do that!\n",
       "12  42     NaN      NaN                             No don't tell me that!\n",
       "13  43     NaN      NaN                                          What if?!\n",
       "14  45     NaN      NaN                                           Awesome!"
      ]
     },
     "execution_count": 131,
     "metadata": {},
     "output_type": "execute_result"
    }
   ],
   "source": [
    "test_df.head(15)"
   ]
  },
  {
   "cell_type": "code",
   "execution_count": 132,
   "id": "d862d4ed",
   "metadata": {},
   "outputs": [],
   "source": [
    "# Bag of Words\n",
    "cv = CountVectorizer(max_features=4000)\n",
    "X = cv.fit_transform(train_df['text']).toarray()\n",
    "y = train_df.iloc[:,4].values"
   ]
  },
  {
   "cell_type": "code",
   "execution_count": 133,
   "id": "63ebf226",
   "metadata": {},
   "outputs": [],
   "source": [
    "# TF IDF Vectorizer\n",
    "tfidf = TfidfVectorizer(max_features = 4000)\n",
    "X1 = tfidf.fit_transform(train_df['text']).toarray()"
   ]
  },
  {
   "cell_type": "markdown",
   "id": "5bf9fdbc",
   "metadata": {},
   "source": [
    "# Train, Validation, Test Splitting\n"
   ]
  },
  {
   "cell_type": "code",
   "execution_count": 189,
   "id": "01f5ccba",
   "metadata": {},
   "outputs": [],
   "source": [
    "from sklearn.model_selection import train_test_split\n",
    "\n",
    "\n",
    "#CV split --- Train size = 0.7 Valid. size = 0.15 Test size = 0.15\n",
    "\n",
    "X_train, x_temp, y_train, y_temp = train_test_split(X, y, stratify=y,\n",
    "                                                       train_size=0.7)\n",
    "\n",
    "X_val, x_test, y_val, y_test = train_test_split(x_temp, y_temp, stratify=y_temp,\n",
    "                                                  test_size=0.5)\n",
    "\n"
   ]
  },
  {
   "cell_type": "code",
   "execution_count": 190,
   "id": "6f8ea397",
   "metadata": {},
   "outputs": [],
   "source": [
    "#TFIDF Vectorizer split --- Train size = 0.7 Valid. size = 0.15 Test size = 0.15\n",
    "\n",
    "X1_train, x1_temp, y1_train, y1_temp = train_test_split(X1,   y,  stratify=y,\n",
    "                                                       train_size=(0.7))\n",
    "\n",
    "X1_val, x1_test, y1_val, y1_test = train_test_split(x1_temp,\n",
    "                                                  y1_temp,\n",
    "                                                  stratify=y1_temp,\n",
    "                                                  test_size=0.5)\n",
    "y1_test = np.delete(y1_test,1125,0)\n"
   ]
  },
  {
   "cell_type": "markdown",
   "id": "082e64fe",
   "metadata": {},
   "source": [
    "# Validations\n"
   ]
  },
  {
   "cell_type": "markdown",
   "id": "64b08b00",
   "metadata": {},
   "source": [
    "## 1. Gaussian Naive Bayes"
   ]
  },
  {
   "cell_type": "code",
   "execution_count": 191,
   "id": "44c4b723",
   "metadata": {},
   "outputs": [
    {
     "name": "stdout",
     "output_type": "stream",
     "text": [
      "Gaussian NB CM :  [[284 362]\n",
      " [ 80 399]]\n",
      "Gaussian NB acc: 0.6071111111111112\n",
      "F1 score macro 0.6435483870967741\n",
      " \n",
      "TFIDF Gaussian NB CM :  [[311 335]\n",
      " [101 378]]\n",
      "[[311 335]\n",
      " [101 378]]\n",
      "Tfidf GNB Accuracy score:  0.6124444444444445\n",
      "F1 score 0.6342281879194631\n"
     ]
    }
   ],
   "source": [
    "from sklearn.naive_bayes import GaussianNB\n",
    "from sklearn.metrics import confusion_matrix, mean_squared_error, accuracy_score, f1_score\n",
    "gnb = GaussianNB()\n",
    "\n",
    "#   CV Naive Bayes\n",
    "gnb.fit(X_train,y_train)\n",
    "\n",
    "y_valpred = gnb.predict(X_val)\n",
    "\n",
    "cm = confusion_matrix(y_val, y_valpred)\n",
    "accuracy1 = accuracy_score(y_val , y_valpred)\n",
    "print(\"Gaussian NB CM : \",cm)\n",
    "print(\"Gaussian NB acc:\", accuracy1)\n",
    "print (\"F1 score macro\",f1_score(y_val, y_valpred) )\n",
    "print(\" \")\n",
    "\n",
    "#  TF-IDF Gaussian NB\n",
    "gnb.fit(X1_train, y1_train)\n",
    "\n",
    "y1_predgnb = gnb.predict(X1_val)\n",
    "cm = confusion_matrix(y1_val, y1_predgnb)\n",
    "print(\"TFIDF Gaussian NB CM : \",cm)\n",
    "print(cm)\n",
    "accuracy2 = accuracy_score(y1_val, y1_predgnb)\n",
    "print(\"Tfidf GNB Accuracy score: \", accuracy2)\n",
    "print (\"F1 score\",f1_score(y1_val, y1_predgnb))"
   ]
  },
  {
   "cell_type": "markdown",
   "id": "b1630d73",
   "metadata": {},
   "source": [
    "## 2. Multinomial Naive Bayes"
   ]
  },
  {
   "cell_type": "code",
   "execution_count": 192,
   "id": "c44716cc",
   "metadata": {},
   "outputs": [
    {
     "name": "stdout",
     "output_type": "stream",
     "text": [
      "Multinomial NB CM :  [[544 102]\n",
      " [135 344]]\n",
      "Multinomial NB acc:  0.7893333333333333\n",
      "F1 score 0.7437837837837837\n",
      " \n",
      "TFIDF Multinomial NB CM :  [[544 102]\n",
      " [135 344]]\n",
      "[[589  57]\n",
      " [157 322]]\n",
      "Tfidf MNB Accuracy score:  0.5386666666666666\n",
      "F1 score 0.6342281879194631\n"
     ]
    }
   ],
   "source": [
    "from sklearn.naive_bayes import MultinomialNB\n",
    "\n",
    "mnb= MultinomialNB()\n",
    "mnb.fit(X_train,y_train)\n",
    "\n",
    "y_valpredmnb = mnb.predict(X_val)\n",
    "cm2 = confusion_matrix(y_val, y_valpredmnb)\n",
    "accuracy2 = accuracy_score(y_val , y_valpredmnb)\n",
    "print(\"Multinomial NB CM : \", cm2)\n",
    "print(\"Multinomial NB acc: \", accuracy2)\n",
    "print (\"F1 score\",f1_score(y_val, y_valpredmnb))\n",
    "print(\" \")\n",
    "#TF-IDF MNB\n",
    "mnb.fit(X1_train, y1_train)\n",
    "\n",
    "y1_predmnb = mnb.predict(X1_val)\n",
    "cm = confusion_matrix(y1_val, y1_predmnb)\n",
    "print(\"TFIDF Multinomial NB CM : \", cm2)\n",
    "print(cm)\n",
    "accuracy = accuracy_score(y1_test, y1_predmnb)\n",
    "print(\"Tfidf MNB Accuracy score: \", accuracy)\n",
    "print (\"F1 score\",f1_score(y1_val, y1_predgnb))"
   ]
  },
  {
   "cell_type": "markdown",
   "id": "faf01304",
   "metadata": {},
   "source": [
    "## 3. KNN Classification"
   ]
  },
  {
   "cell_type": "code",
   "execution_count": 138,
   "id": "129a4001",
   "metadata": {},
   "outputs": [
    {
     "name": "stdout",
     "output_type": "stream",
     "text": [
      "CV KNN CM for k in range 1-31 :  [[644   2]\n",
      " [436  43]]\n",
      "CV KNN accuracy for k in range 1-31 :  0.6106666666666667\n",
      "CV KNN F Score for k in range 1-31 :  0.33251944841040343\n",
      " \n",
      "TFIDF KNN CM for k in range 1-31 :  [[618  28]\n",
      " [289 190]]\n",
      "TFIDF KNN accuracy for k in range 1-31 :  0.7182222222222222\n",
      "TFIDF KNN F Score for k in range 1-31 :  0.4430052320530155\n"
     ]
    },
    {
     "data": {
      "text/plain": [
       "<matplotlib.legend.Legend at 0x199413a4e20>"
      ]
     },
     "execution_count": 138,
     "metadata": {},
     "output_type": "execute_result"
    },
    {
     "data": {
      "image/png": "[encoded data removed]",
      "text/plain": [
       "<Figure size 432x288 with 1 Axes>"
      ]
     },
     "metadata": {
      "needs_background": "light"
     },
     "output_type": "display_data"
    }
   ],
   "source": [
    "from sklearn.neighbors import KNeighborsClassifier\n",
    "import matplotlib.pyplot as plt\n",
    "errorcv = []\n",
    "errortf = []\n",
    "f1cv = []\n",
    "f1tf = []\n",
    "for k in range(1,31):\n",
    "    knn = KNeighborsClassifier(n_neighbors = k, metric='euclidean')\n",
    "    knn.fit(X_train, y_train)\n",
    "    y_valpredknn = knn.predict(X_val)\n",
    "    \n",
    "    cm3 = confusion_matrix(y_val, y_valpredknn)\n",
    "    accuracy3 = accuracy_score(y_val , y_valpredknn)\n",
    "    errorcv.append(mean_squared_error(y_val, y_valpredknn))\n",
    "    f1cv.append(f1_score(y_val, y_valpredknn))\n",
    "print(\"CV KNN CM for k in range 1-31 : \", cm3)\n",
    "print(\"CV KNN accuracy for k in range 1-31 : \", accuracy3)\n",
    "print(\"CV KNN F Score for k in range 1-31 : \", np.mean(f1cv))\n",
    "\n",
    "plt.plot(range(1,31),errorcv, label='For CV')\n",
    "plt.title('Error Rate vs. K Value')\n",
    "plt.xlabel('K')\n",
    "plt.ylabel('Error Rate')\n",
    "\n",
    "print (\" \")\n",
    "\n",
    "for k in range(1,31):\n",
    "    knn = KNeighborsClassifier(n_neighbors = k, metric='euclidean')\n",
    "    knn.fit(X1_train, y1_train)\n",
    "    y1_valpredknntf = knn.predict(X1_val)\n",
    "    \n",
    "    cm3 = confusion_matrix(y1_val, y1_valpredknntf)\n",
    "    accuracy3 = accuracy_score(y1_val , y1_valpredknntf)\n",
    "    errortf.append(mean_squared_error(y1_val, y1_valpredknntf))\n",
    "    f1tf.append(f1_score(y1_val, y1_valpredknntf))\n",
    "    \n",
    "print(\"TFIDF KNN CM for k in range 1-31 : \", cm3)\n",
    "print(\"TFIDF KNN accuracy for k in range 1-31 : \", accuracy3)\n",
    "print(\"TFIDF KNN F Score for k in range 1-31 : \", np.mean(f1tf))\n",
    "plt.plot(range(1,31),errortf , label = \"For TFIDF\")\n",
    "plt.legend()"
   ]
  },
  {
   "cell_type": "markdown",
   "id": "47387961",
   "metadata": {},
   "source": [
    "--->  Grafikten anlaşıldığı üzere bag of words için KNN'in ideal k değeri 2, TF-IDF için ise bu değer k = 27 seçilmelidir."
   ]
  },
  {
   "cell_type": "markdown",
   "id": "2ab9e2af",
   "metadata": {},
   "source": [
    "## 4. Decision Tree"
   ]
  },
  {
   "cell_type": "code",
   "execution_count": 203,
   "id": "b1968d6c",
   "metadata": {},
   "outputs": [
    {
     "name": "stdout",
     "output_type": "stream",
     "text": [
      "CV CM for DT :  [[523 123]\n",
      " [172 307]]\n",
      "CV accuracy for DT :  0.7377777777777778\n",
      "CV F Score for DT :  0.6754675467546755\n",
      " \n",
      "TFIDF CM for DT :  [[569  77]\n",
      " [193 286]]\n",
      "TFIDF accuracy for DT :  0.76\n",
      "TFIDF F Score for DT :  0.6793349168646081\n"
     ]
    }
   ],
   "source": [
    "from sklearn.tree import DecisionTreeClassifier\n",
    "dtc = DecisionTreeClassifier(criterion = 'entropy', max_depth = 70, max_leaf_nodes = 70)\n",
    "\n",
    "dtc.fit(X_train, y_train)\n",
    "\n",
    "y_valpreddtc = dtc.predict(X_val)\n",
    "\n",
    "cm5 = confusion_matrix(y_val, y_valpreddtc)\n",
    "accuracy5 = accuracy_score(y_val , y_valpreddtc)\n",
    "f1 = f1_score (y_val,y_valpreddtc)\n",
    "print(\"CV CM for DT : \", cm5)\n",
    "print(\"CV accuracy for DT : \", accuracy5)\n",
    "print(\"CV F Score for DT : \", f1)\n",
    "\n",
    "print (\" \")\n",
    "\n",
    "dtc.fit(X1_train, y1_train)\n",
    "\n",
    "y1_valpreddtc = dtc.predict(X1_val)\n",
    "cm8 = confusion_matrix(y1_val, y1_valpreddtc)\n",
    "accuracy8 = accuracy_score(y1_val , y1_valpreddtc)\n",
    "f1 = f1_score (y1_val,y1_valpreddtc)\n",
    "print(\"TFIDF CM for DT : \", cm8)\n",
    "print(\"TFIDF accuracy for DT : \", accuracy8)\n",
    "print(\"TFIDF F Score for DT : \", f1)"
   ]
  },
  {
   "cell_type": "markdown",
   "id": "2888c6ad",
   "metadata": {},
   "source": [
    "## 5. Multilayer Perceptron"
   ]
  },
  {
   "cell_type": "code",
   "execution_count": 205,
   "id": "e6012eb5",
   "metadata": {
    "scrolled": false
   },
   "outputs": [
    {
     "name": "stdout",
     "output_type": "stream",
     "text": [
      "CV CM for Perceptron :  [[504 142]\n",
      " [127 352]]\n",
      "CV accuracy for Perceptron :  0.7608888888888888\n",
      "CV F Score for Perceptron :  0.7235354573484071\n",
      " \n",
      "TFIDF CM for Perceptron :  [[510 136]\n",
      " [134 345]]\n",
      "TFIDF accuracy for Perceptron :  0.76\n",
      "TFIDF F Score for DT :  0.71875\n"
     ]
    }
   ],
   "source": [
    "from sklearn.neural_network import MLPClassifier\n",
    "nn = MLPClassifier(activation='relu', solver='sgd', hidden_layer_sizes=(5,10),learning_rate='adaptive',max_iter = 600,learning_rate_init=0.1, random_state=1)\n",
    "\n",
    "nn.fit(X_train, y_train)\n",
    "\n",
    "y_valpredbp = nn.predict(X_val)\n",
    "\n",
    "cm4 = confusion_matrix(y_val, y_valpredbp)\n",
    "accuracy4 = accuracy_score(y_val , y_valpredbp)\n",
    "f1score = f1_score(y_val, y_valpredbp)\n",
    "\n",
    "print(\"CV CM for Perceptron : \", cm4)\n",
    "print(\"CV accuracy for Perceptron : \", accuracy4)\n",
    "print(\"CV F Score for Perceptron : \", f1score)\n",
    "\n",
    "print(\" \")\n",
    "\n",
    "nn.fit(X1_train, y1_train)\n",
    "\n",
    "y1_valpredbp = nn.predict(X1_val)\n",
    "cm4 = confusion_matrix(y1_val, y1_valpredbp)\n",
    "accuracy4 = accuracy_score(y1_val , y1_valpredbp)\n",
    "f1score = f1_score(y1_val, y1_valpredbp)\n",
    "\n",
    "print(\"TFIDF CM for Perceptron : \", cm4)\n",
    "print(\"TFIDF accuracy for Perceptron : \", accuracy4)\n",
    "print(\"TFIDF F Score for DT : \", f1score)"
   ]
  },
  {
   "cell_type": "markdown",
   "id": "06fdf027",
   "metadata": {},
   "source": [
    "## 6. Logistic Regression"
   ]
  },
  {
   "cell_type": "code",
   "execution_count": 150,
   "id": "60249ece",
   "metadata": {},
   "outputs": [
    {
     "name": "stdout",
     "output_type": "stream",
     "text": [
      "CV CM for Perceptron :  [[541 105]\n",
      " [116 363]]\n",
      "CV accuracy for Perceptron :  0.8035555555555556\n",
      "CV F Score for Perceptron :  0.7666314677930307\n",
      " \n",
      "TFIDF CM for Logistic Regression :  [[537 109]\n",
      " [136 343]]\n",
      "TFIDF accuracy for Logistic Regression :  0.7822222222222223\n",
      "TFIDF F Score for Logistic Regression :  0.736842105263158\n"
     ]
    }
   ],
   "source": [
    "from sklearn.linear_model import LogisticRegression\n",
    "\n",
    "lgr = LogisticRegression(class_weight = \"balanced\")\n",
    "lgr.fit(X_train, y_train)\n",
    "y_valpredlgr = lgr.predict(X_val)\n",
    "\n",
    "cm6 = confusion_matrix(y_val, y_valpredlgr)\n",
    "accuracy6 = accuracy_score(y_val , y_valpredlgr)\n",
    "f1score6 = f1_score(y_val, y_valpredlgr)\n",
    "\n",
    "print(\"CV CM for Perceptron : \", cm6)\n",
    "print(\"CV accuracy for Perceptron : \", accuracy6)\n",
    "print(\"CV F Score for Perceptron : \", f1score6)\n",
    "\n",
    "print(\" \")\n",
    "lgr.fit(X1_train, y1_train)\n",
    "\n",
    "y1_valpredlgr2 = lgr.predict(X1_val)\n",
    "\n",
    "cm6 = confusion_matrix(y1_val, y1_valpredlgr2)\n",
    "accuracy6 = accuracy_score(y1_val , y1_valpredlgr2)\n",
    "f1score6 = f1_score(y1_val, y1_valpredlgr2)\n",
    "\n",
    "print(\"TFIDF CM for Logistic Regression : \", cm6)\n",
    "print(\"TFIDF accuracy for Logistic Regression : \", accuracy6)\n",
    "print(\"TFIDF F Score for Logistic Regression : \", f1score6)"
   ]
  },
  {
   "cell_type": "markdown",
   "id": "8f922834",
   "metadata": {},
   "source": [
    "# Testing"
   ]
  },
  {
   "cell_type": "markdown",
   "id": "13839da0",
   "metadata": {},
   "source": [
    "## 1. Gaussian NB Testing"
   ]
  },
  {
   "cell_type": "code",
   "execution_count": 141,
   "id": "6067c318",
   "metadata": {},
   "outputs": [
    {
     "name": "stdout",
     "output_type": "stream",
     "text": [
      "Gaussian NB CM :  [[288 358]\n",
      " [ 97 383]]\n",
      "Gaussian NB Test acc: 0.5959147424511545\n",
      "Gaussian NB F1 Score for Test:  0.6273546273546273\n"
     ]
    }
   ],
   "source": [
    "gnb.fit(X_train,y_train)\n",
    "y_pred = gnb.predict(x_test)\n",
    "\n",
    "cm = confusion_matrix(y_test, y_pred)\n",
    "accuracy = accuracy_score(y_test , y_pred)\n",
    "f1gnb = f1_score(y_test, y_pred)\n",
    "print(\"Gaussian NB CM : \",cm)\n",
    "print(\"Gaussian NB Test acc:\", accuracy)\n",
    "print(\"Gaussian NB F1 Score for Test: \", f1gnb)"
   ]
  },
  {
   "cell_type": "markdown",
   "id": "1ce5bf5e",
   "metadata": {},
   "source": [
    "## 2. Multinomial NB Testing"
   ]
  },
  {
   "cell_type": "code",
   "execution_count": 142,
   "id": "723f8d3a",
   "metadata": {},
   "outputs": [
    {
     "name": "stdout",
     "output_type": "stream",
     "text": [
      "Multinomial NB CM :  [[544 102]\n",
      " [149 331]]\n",
      "Multinomial NB Test acc:  0.7770870337477798\n",
      "Multinomial NB F1 Score for Test:  0.7250821467688937\n"
     ]
    }
   ],
   "source": [
    "mnb.fit(X_train,y_train)\n",
    "y_predmnb = mnb.predict(x_test)\n",
    "cm2 = confusion_matrix(y_test, y_predmnb)\n",
    "accuracy2 = accuracy_score(y_test , y_predmnb)\n",
    "f1mnb = f1_score(y_test , y_predmnb)\n",
    "print(\"Multinomial NB CM : \", cm2)\n",
    "print(\"Multinomial NB Test acc: \", accuracy2)\n",
    "print(\"Multinomial NB F1 Score for Test: \", f1mnb)"
   ]
  },
  {
   "cell_type": "markdown",
   "id": "46c0f47a",
   "metadata": {},
   "source": [
    "## 3. KNN Testing"
   ]
  },
  {
   "cell_type": "code",
   "execution_count": 143,
   "id": "0d1197fb",
   "metadata": {},
   "outputs": [
    {
     "name": "stdout",
     "output_type": "stream",
     "text": [
      "CV KNN CM for k = 2 :  [[596  50]\n",
      " [287 193]]\n",
      "CV KNN Test accuracy for k = 2 :  0.7007104795737122\n",
      "CV KNN Test F Score for k = 2 :  0.5338865836791148\n",
      " \n",
      "TFIDF KNN CM for k = 27 :  [[633  13]\n",
      " [259 220]]\n",
      "TFIDF KNN Test accuracy for k = 27 :  0.7582222222222222\n",
      "TFIDF KNN Test F Score for k = 27 :  0.6179775280898877\n"
     ]
    }
   ],
   "source": [
    "knn = KNeighborsClassifier(n_neighbors = 2, metric='euclidean')\n",
    "knn.fit(X_train, y_train)\n",
    "y_predknn = knn.predict(x_test)\n",
    "\n",
    "f1scorecv = []\n",
    "f1scoretf = []\n",
    "\n",
    "cm3 = confusion_matrix(y_test, y_predknn)\n",
    "accuracy3 = accuracy_score(y_test , y_predknn)\n",
    "f1scorecv = (f1_score(y_test, y_predknn))\n",
    "\n",
    "print(\"CV KNN CM for k = 2 : \", cm3)\n",
    "print(\"CV KNN Test accuracy for k = 2 : \", accuracy3)\n",
    "print(\"CV KNN Test F Score for k = 2 : \", f1scorecv)\n",
    "\n",
    "print(\" \")\n",
    "\n",
    "knn = KNeighborsClassifier(n_neighbors = 27, metric='euclidean')\n",
    "knn.fit(X1_train, y1_train)\n",
    "y1_predknn = knn.predict(x1_test)\n",
    "y1_predknn = np.delete(y1_predknn,1125,0)\n",
    "\n",
    "\n",
    "cm3 = confusion_matrix(y1_test, y1_predknn)\n",
    "accuracy3 = accuracy_score(y1_test , y1_predknn)\n",
    "f1scoretf = (f1_score(y1_test, y1_predknn))\n",
    "\n",
    "print(\"TFIDF KNN CM for k = 27 : \", cm3)\n",
    "print(\"TFIDF KNN Test accuracy for k = 27 : \", accuracy3)\n",
    "print(\"TFIDF KNN Test F Score for k = 27 : \", f1scoretf)\n"
   ]
  },
  {
   "cell_type": "markdown",
   "id": "3b4d9805",
   "metadata": {},
   "source": [
    "## 4. Decision Tree Testing"
   ]
  },
  {
   "cell_type": "code",
   "execution_count": 145,
   "id": "97c8346c",
   "metadata": {},
   "outputs": [
    {
     "name": "stdout",
     "output_type": "stream",
     "text": [
      "CV CM for DT :  [[549  97]\n",
      " [188 292]]\n",
      "CV Test accuracy for DT :  0.7468916518650088\n",
      "CV Test F1 Score for DT : 0.6720368239355581\n",
      " \n",
      "TFIDF CM for DT :  [[579  67]\n",
      " [188 291]]\n",
      "TFIDF Test accuracy for DT :  0.7733333333333333\n",
      "TFIDF Test F1 Score for DT : 0.6953405017921147\n"
     ]
    }
   ],
   "source": [
    "dtc.fit(X_train,y_train)\n",
    "y_preddtc = dtc.predict(x_test)\n",
    "\n",
    "cm5 = confusion_matrix(y_test, y_preddtc)\n",
    "accuracy5 = accuracy_score(y_test , y_preddtc)\n",
    "print(\"CV CM for DT : \", cm5)\n",
    "print(\"CV Test accuracy for DT : \", accuracy5)\n",
    "print(\"CV Test F1 Score for DT :\", f1_score(y_test, y_preddtc))\n",
    "dtc.fit(X1_train,y1_train)\n",
    "y_preddtc = dtc.predict(x1_test)\n",
    "y_preddtc = np.delete(y_preddtc,1125,0)\n",
    "\n",
    "print(\" \")\n",
    "cm5 = confusion_matrix(y1_test, y_preddtc)\n",
    "accuracy5 = accuracy_score(y1_test , y_preddtc)\n",
    "print(\"TFIDF CM for DT : \", cm5)\n",
    "print(\"TFIDF Test accuracy for DT : \", accuracy5)\n",
    "print(\"TFIDF Test F1 Score for DT :\", f1_score(y1_test, y_preddtc))\n"
   ]
  },
  {
   "cell_type": "markdown",
   "id": "3c285cf4",
   "metadata": {},
   "source": [
    "## 5. Multilayer Perceptron Testing"
   ]
  },
  {
   "cell_type": "code",
   "execution_count": 146,
   "id": "f2e8cec5",
   "metadata": {},
   "outputs": [
    {
     "name": "stdout",
     "output_type": "stream",
     "text": [
      "CV CM for BP :  [[501 145]\n",
      " [154 326]]\n",
      "CV Test accuracy for MLP :  0.7344582593250444\n",
      "CV Test F1 Score for DT : 0.6855941114616194\n",
      " \n",
      "TFIDF CM for BP :  [[520 126]\n",
      " [139 340]]\n",
      "TFIDF Test accuracy for MLP :  0.7644444444444445\n",
      "TFIDF Test F1 Score for MLP : 0.7195767195767195\n"
     ]
    }
   ],
   "source": [
    "nn.fit(X_train, y_train)\n",
    "\n",
    "y_predbp = nn.predict(x_test)\n",
    "\n",
    "cm4 = confusion_matrix(y_test, y_predbp)\n",
    "accuracy4 = accuracy_score(y_test , y_predbp)\n",
    "\n",
    "print(\"CV CM for BP : \", cm4)\n",
    "print(\"CV Test accuracy for MLP : \", accuracy4)\n",
    "print(\"CV Test F1 Score for DT :\", f1_score(y_test, y_predbp))\n",
    "\n",
    "nn.fit(X1_train,y1_train)\n",
    "y_predbp = nn.predict(x1_test)\n",
    "y_predbp = np.delete(y_predbp,1125,0)\n",
    "\n",
    "print (\" \")\n",
    "cm4 = confusion_matrix(y1_test, y_predbp)\n",
    "accuracy4 = accuracy_score(y1_test , y_predbp)\n",
    "print(\"TFIDF CM for BP : \", cm4)\n",
    "print(\"TFIDF Test accuracy for MLP : \", accuracy4)\n",
    "print(\"TFIDF Test F1 Score for MLP :\", f1_score(y1_test, y_predbp))\n"
   ]
  },
  {
   "cell_type": "markdown",
   "id": "7bbe00d4",
   "metadata": {},
   "source": [
    "## 6. Logistic Regression Testing"
   ]
  },
  {
   "cell_type": "code",
   "execution_count": 153,
   "id": "2f8017ec",
   "metadata": {},
   "outputs": [
    {
     "name": "stdout",
     "output_type": "stream",
     "text": [
      "CV CM for Perceptron :  [[525 121]\n",
      " [150 330]]\n",
      "CV accuracy for Perceptron :  0.7593250444049734\n",
      "CV F Score for Perceptron :  0.7089151450053706\n",
      " \n",
      "TFIDF CM for Logistic Regression :  [[555  91]\n",
      " [116 363]]\n",
      "TFIDF accuracy for Logistic Regression :  0.816\n",
      "TFIDF F Score for Logistic Regression :  0.7781350482315113\n"
     ]
    }
   ],
   "source": [
    "lgr.fit(X_train, y_train)\n",
    "y_valpredlgr = lgr.predict(x_test)\n",
    "\n",
    "cm6 = confusion_matrix(y_test, y_valpredlgr)\n",
    "accuracy6 = accuracy_score(y_test , y_valpredlgr)\n",
    "f1score6 = f1_score(y_test, y_valpredlgr)\n",
    "\n",
    "print(\"CV CM for Perceptron : \", cm6)\n",
    "print(\"CV accuracy for Perceptron : \", accuracy6)\n",
    "print(\"CV F Score for Perceptron : \", f1score6)\n",
    "\n",
    "print(\" \")\n",
    "lgr.fit(X1_train, y1_train)\n",
    "\n",
    "y1_valpredlgr2 = lgr.predict(x1_test)\n",
    "y1_valpredlgr2 = np.delete(y1_valpredlgr2,1125,0)\n",
    "\n",
    "cm6 = confusion_matrix(y1_test, y1_valpredlgr2)\n",
    "accuracy6 = accuracy_score(y1_test , y1_valpredlgr2)\n",
    "f1score6 = f1_score(y1_test, y1_valpredlgr2)\n",
    "\n",
    "print(\"TFIDF CM for Logistic Regression : \", cm6)\n",
    "print(\"TFIDF accuracy for Logistic Regression : \", accuracy6)\n",
    "print(\"TFIDF F Score for Logistic Regression : \", f1score6)"
   ]
  },
  {
   "cell_type": "markdown",
   "id": "b7e28830",
   "metadata": {},
   "source": [
    "## 6. K - Fold Cross Validation"
   ]
  },
  {
   "cell_type": "markdown",
   "id": "6bbe87da",
   "metadata": {},
   "source": [
    "### 6.1 N = 5 Splits"
   ]
  },
  {
   "cell_type": "code",
   "execution_count": 155,
   "id": "7e3bb817",
   "metadata": {},
   "outputs": [
    {
     "name": "stdout",
     "output_type": "stream",
     "text": [
      "fold  1\n",
      "fold  2\n",
      "fold  3\n",
      "fold  4\n",
      "fold  5\n"
     ]
    }
   ],
   "source": [
    "from sklearn.neighbors import KNeighborsClassifier\n",
    "from sklearn.model_selection import StratifiedKFold\n",
    "\n",
    "skf5 = StratifiedKFold(n_splits = 5,random_state=None)\n",
    "\n",
    "skf5.get_n_splits(X,y)\n",
    "\n",
    "acc_gnb =[]\n",
    "acc_mnb =[]\n",
    "acc_knn =[]\n",
    "acc_nn =[]\n",
    "acc_dtc =[]\n",
    "acc_lgr =[]\n",
    "i = 1\n",
    "\n",
    "cm1 = []\n",
    "cm2 = []\n",
    "cm3 = []\n",
    "cm4 = []\n",
    "cm5 = []\n",
    "cm10 = []\n",
    "\n",
    "f1gnb = []\n",
    "f1mnb = []\n",
    "f1knn = []\n",
    "f1nn = []\n",
    "f1dtc = []\n",
    "f1lgr = []\n",
    "\n",
    "for train_index, test_index in skf5.split(X,y):\n",
    "    print(\"fold \", i)\n",
    "    \n",
    "    X2_train, X2_test = X[train_index], X[test_index]\n",
    "    y2_train, y2_test = y[train_index], y[test_index]\n",
    "    \n",
    "    \n",
    "    knn = KNeighborsClassifier(n_neighbors = 1, metric='euclidean', weights='uniform',)\n",
    "    dtc = DecisionTreeClassifier(criterion = 'entropy', max_depth = 200, max_leaf_nodes = 120)\n",
    "    nn = MLPClassifier(activation='relu', solver='sgd', hidden_layer_sizes=(10,20),learning_rate='adaptive',max_iter = 600,learning_rate_init=0.1, random_state=1)\n",
    "\n",
    "    \n",
    "    \"\"\"\n",
    "    gnb.fit(X2_train, y2_train)\n",
    "    mnb.fit(X2_train, y2_train)\n",
    "    \n",
    "    knn.fit(X2_train, y2_train)\n",
    "    \n",
    "    nn.fit(X2_train, y2_train)\n",
    "    \n",
    "    dtc.fit(X2_train, y2_train)\n",
    "    \"\"\"\n",
    "    lgr.fit(X2_train, y2_train)\n",
    "\n",
    "    \"\"\"\n",
    "    predgnb = gnb.predict(X2_test)\n",
    "    score_gnb = accuracy_score(predgnb,y2_test)\n",
    "    f1_gnb = f1_score(predgnb, y2_test)\n",
    "    f1gnb.append(f1_gnb)\n",
    "    cmgnb = confusion_matrix(y2_test, predgnb)\n",
    "    cm1.append(cmgnb)\n",
    "    acc_gnb.append(score_gnb)\n",
    "    \n",
    "   \n",
    "    predmnb = mnb.predict(X2_test)\n",
    "    score_mnb = accuracy_score(predmnb,y2_test)\n",
    "    f1_mnb = f1_score(predmnb, y2_test)\n",
    "    f1mnb.append(f1_mnb)\n",
    "    cmmnb = confusion_matrix(y2_test, predmnb)\n",
    "    cm2.append(cmmnb)\n",
    "    acc_mnb.append(score_mnb)\n",
    "    \n",
    "    predknn = knn.predict(X2_test)\n",
    "    score_knn = accuracy_score(predknn,y2_test)\n",
    "    f1_knn = f1_score(predknn, y2_test)\n",
    "    f1knn.append(f1_knn)\n",
    "    cmknn = confusion_matrix(y2_test,predknn)\n",
    "    cm3.append(cmknn)\n",
    "    acc_knn.append(score_knn)\n",
    "    \n",
    "    \n",
    "    prednn = nn.predict(X2_test)\n",
    "    score_nn = accuracy_score(prednn,y2_test)\n",
    "    f1_nn = f1_score(prednn, y2_test)\n",
    "    f1nn.append(f1_nn)\n",
    "    print(\"NN loss for fold \", i ,\" : \", nn.loss_)\n",
    "    acc_nn.append(score_knn)\n",
    "    cmnn = confusion_matrix(y2_test,prednn)\n",
    "    cm4.append(cmnn)\n",
    "    \"\"\"\n",
    "\n",
    "    predlgr = lgr.predict(X2_test)\n",
    "    score_lgr = accuracy_score(predlgr, y2_test)\n",
    "    f1_lgr = f1_score(predlgr, y2_test)\n",
    "    f1lgr.append(f1_lgr)\n",
    "    acc_lgr.append(score_lgr)\n",
    "    cmlgr = confusion_matrix(y2_test, predlgr)\n",
    "    cm10.append(cmlgr)\n",
    "    \n",
    "    \n",
    "    \"\"\"\n",
    "    preddtc = dtc.predict(X2_test)\n",
    "    score_dtc = accuracy_score(preddtc,y2_test)\n",
    "    f1_dtc = f1_score(preddtc, y2_test)\n",
    "    f1dtc.append(f1_dtc)\n",
    "    acc_dtc.append(score_dtc)\n",
    "    cmdtc = confusion_matrix(y2_test,preddtc)\n",
    "    cm5.append(cmdtc)\n",
    "    \"\"\"\n",
    "    i +=1"
   ]
  },
  {
   "cell_type": "code",
   "execution_count": 60,
   "id": "0339c1e0",
   "metadata": {},
   "outputs": [
    {
     "name": "stdout",
     "output_type": "stream",
     "text": [
      "K=5 kFold gnb acc:  nan\n",
      "K=5 kFold gnb CM:  0\n",
      "K=5 kFold gnb F1:  nan\n"
     ]
    },
    {
     "name": "stderr",
     "output_type": "stream",
     "text": [
      "C:\\Users\\Public\\Documents\\Wondershare\\CreatorTemp/ipykernel_73176/4102378846.py:1: RuntimeWarning: Mean of empty slice.\n",
      "  print(\"K=5 kFold gnb acc: \" , np.array(acc_gnb).mean())\n",
      "C:\\ProgramData\\Anaconda3\\lib\\site-packages\\numpy\\core\\_methods.py:170: RuntimeWarning: invalid value encountered in double_scalars\n",
      "  ret = ret.dtype.type(ret / rcount)\n",
      "C:\\Users\\Public\\Documents\\Wondershare\\CreatorTemp/ipykernel_73176/4102378846.py:3: RuntimeWarning: Mean of empty slice.\n",
      "  print(\"K=5 kFold gnb F1: \" , np.array(f1gnb).mean())\n"
     ]
    }
   ],
   "source": [
    "print(\"K=5 kFold gnb acc: \" , np.array(acc_gnb).mean())\n",
    "print(\"K=5 kFold gnb CM: \", sum(cm1))\n",
    "print(\"K=5 kFold gnb F1: \" , np.array(f1gnb).mean())\n"
   ]
  },
  {
   "cell_type": "code",
   "execution_count": 53,
   "id": "ffba17ad",
   "metadata": {},
   "outputs": [
    {
     "name": "stdout",
     "output_type": "stream",
     "text": [
      "K=5 kFold mnb acc:  0.7022614257161892\n",
      "K=5 kFold mnb CM:  [[3105 1202]\n",
      " [1032 2164]]\n",
      "K=5 kFold mnb F1:  0.6576128398917273\n"
     ]
    }
   ],
   "source": [
    "print(\"K=5 kFold mnb acc: \" ,np.array(acc_mnb).mean())\n",
    "print(\"K=5 kFold mnb CM: \", sum(cm2))\n",
    "print(\"K=5 kFold mnb F1: \" , np.array(f1mnb).mean())\n"
   ]
  },
  {
   "cell_type": "code",
   "execution_count": 77,
   "id": "f4bc2a63",
   "metadata": {
    "scrolled": true
   },
   "outputs": [
    {
     "name": "stdout",
     "output_type": "stream",
     "text": [
      "K=5 kFold knn acc:  0.5997691316899845\n",
      "K=5 kFold knn CM:  [[3732  575]\n",
      " [2428  768]]\n",
      "K=5 kFold knn F1:  0.3311132377815583\n"
     ]
    }
   ],
   "source": [
    "print(\"K=5 kFold knn acc: \" , np.array(acc_knn).mean())\n",
    "print(\"K=5 kFold knn CM: \", sum(cm3))\n",
    "print(\"K=5 kFold knn F1: \" , np.array(f1knn).mean())\n"
   ]
  },
  {
   "cell_type": "code",
   "execution_count": 78,
   "id": "4ad15d3f",
   "metadata": {
    "scrolled": true
   },
   "outputs": [
    {
     "name": "stdout",
     "output_type": "stream",
     "text": [
      "K=5 kFold Perceptron acc:  nan\n",
      "K=5 kFold Perceptron CM:  0\n",
      "K=5 kFold Perceptron F1:  nan\n"
     ]
    },
    {
     "name": "stderr",
     "output_type": "stream",
     "text": [
      "C:\\Users\\Public\\Documents\\Wondershare\\CreatorTemp/ipykernel_73176/1489369865.py:1: RuntimeWarning: Mean of empty slice.\n",
      "  print(\"K=5 kFold Perceptron acc: \" , np.array(acc_nn).mean())\n",
      "C:\\ProgramData\\Anaconda3\\lib\\site-packages\\numpy\\core\\_methods.py:170: RuntimeWarning: invalid value encountered in double_scalars\n",
      "  ret = ret.dtype.type(ret / rcount)\n",
      "C:\\Users\\Public\\Documents\\Wondershare\\CreatorTemp/ipykernel_73176/1489369865.py:3: RuntimeWarning: Mean of empty slice.\n",
      "  print(\"K=5 kFold Perceptron F1: \" , np.array(f1nn).mean())\n"
     ]
    }
   ],
   "source": [
    "print(\"K=5 kFold Perceptron acc: \" , np.array(acc_nn).mean())\n",
    "print(\"K=5 kFold Perceptron CM: \", sum(cm4))\n",
    "print(\"K=5 kFold Perceptron F1: \" , np.array(f1nn).mean())\n"
   ]
  },
  {
   "cell_type": "code",
   "execution_count": 79,
   "id": "500aa290",
   "metadata": {},
   "outputs": [
    {
     "name": "stdout",
     "output_type": "stream",
     "text": [
      "K=5 kFold dtc acc:  0.5936309127248501\n",
      "K=5 kFold dtc CM:  [[3047 1260]\n",
      " [1789 1407]]\n",
      "K=5 kFold dtc F1:  0.48020924006019294\n"
     ]
    }
   ],
   "source": [
    "print(\"K=5 kFold dtc acc: \" , np.array(acc_dtc).mean())\n",
    "print(\"K=5 kFold dtc CM: \", sum(cm5))\n",
    "print(\"K=5 kFold dtc F1: \" , np.array(f1dtc).mean())\n"
   ]
  },
  {
   "cell_type": "code",
   "execution_count": 156,
   "id": "a18abe9b",
   "metadata": {},
   "outputs": [
    {
     "name": "stdout",
     "output_type": "stream",
     "text": [
      "K=5 kFold Logistic Regression acc:  0.684666933155674\n",
      "K=5 kFold Logistic Regression CM:  [[3239 1068]\n",
      " [1298 1898]]\n",
      "K=5 kFold Logistic Regression F1:  0.6142742215341194\n"
     ]
    }
   ],
   "source": [
    "print(\"K=5 kFold Logistic Regression acc: \" , np.array(acc_lgr).mean())\n",
    "print(\"K=5 kFold Logistic Regression CM: \", sum(cm10))\n",
    "print(\"K=5 kFold Logistic Regression F1: \" , np.array(f1lgr).mean())"
   ]
  },
  {
   "cell_type": "markdown",
   "id": "59e00dc3",
   "metadata": {},
   "source": [
    "### 6.2 N = 10 Splits"
   ]
  },
  {
   "cell_type": "code",
   "execution_count": 187,
   "id": "d4777dd0",
   "metadata": {},
   "outputs": [
    {
     "name": "stdout",
     "output_type": "stream",
     "text": [
      "fold  1\n",
      "NN loss for fold  1  :  0.030547641083683783\n",
      "fold  2\n",
      "NN loss for fold  2  :  0.03439547016713786\n",
      "fold  3\n",
      "NN loss for fold  3  :  0.03300932920036348\n",
      "fold  4\n",
      "NN loss for fold  4  :  0.02939306283979507\n",
      "fold  5\n",
      "NN loss for fold  5  :  0.030968253807441257\n",
      "fold  6\n",
      "NN loss for fold  6  :  0.02855396205516469\n",
      "fold  7\n",
      "NN loss for fold  7  :  0.03154202504266876\n",
      "fold  8\n",
      "NN loss for fold  8  :  0.027884150149956072\n",
      "fold  9\n",
      "NN loss for fold  9  :  0.033130798173001276\n",
      "fold  10\n",
      "NN loss for fold  10  :  0.03262963267625095\n"
     ]
    }
   ],
   "source": [
    "skf5 = StratifiedKFold(n_splits = 10,random_state=None)\n",
    "\n",
    "skf5.get_n_splits(X,y)\n",
    "\n",
    "acc_gnb =[]\n",
    "acc_mnb =[]\n",
    "acc_knn =[]\n",
    "acc_nn =[]\n",
    "acc_dtc =[]\n",
    "acc_lgr =[]\n",
    "i = 1\n",
    "\n",
    "cm12 = []\n",
    "cm22 = []\n",
    "cm32 = []\n",
    "cm42 = []\n",
    "cm52 = []\n",
    "cm62 = []\n",
    "\n",
    "f1gnb2 = []\n",
    "f1mnb2 = []\n",
    "f1knn2 = []\n",
    "f1nn2 = []\n",
    "f1dtc2 = []\n",
    "f1lgr2 =[]\n",
    "\n",
    "\n",
    "for train_index, test_index in skf5.split(X,y):\n",
    "    print(\"fold \", i)\n",
    "    \n",
    "    X2_train, X2_test = X[train_index], X[test_index]\n",
    "    y2_train, y2_test = y[train_index], y[test_index]\n",
    "    \n",
    "    \n",
    "    knn = KNeighborsClassifier(n_neighbors = 1, metric='euclidean', weights='uniform',)\n",
    "    dtc = DecisionTreeClassifier(criterion = 'entropy', max_depth = 70, max_leaf_nodes = 120)\n",
    "    nn = MLPClassifier(activation='relu', solver='sgd', hidden_layer_sizes=(10,20),learning_rate='adaptive',max_iter = 600,learning_rate_init=0.1, random_state=1)\n",
    "    \n",
    "    \"\"\"\n",
    "    lgr.fit(X2_train, y2_train)\n",
    "    \n",
    "    gnb.fit(X2_train, y2_train)\n",
    "    \n",
    "    mnb.fit(X2_train, y2_train)\n",
    "    \n",
    "    knn.fit(X2_train, y2_train)\n",
    "    \"\"\"\n",
    "    nn.fit(X2_train, y2_train)\n",
    "    \"\"\"\n",
    "    dtc.fit(X2_train, y2_train)\n",
    "    \"\"\"\n",
    "    \"\"\"\n",
    "    predgnb = gnb.predict(X2_test)\n",
    "    score_gnb = accuracy_score(predgnb,y2_test)\n",
    "    f1_gnb = f1_score(predgnb, y2_test)\n",
    "    cmgnb = confusion_matrix(y2_test, predgnb)\n",
    "    cm12.append(cmgnb)\n",
    "    acc_gnb.append(score_gnb)\n",
    "    f1gnb2.append(f1_gnb)\n",
    "    \n",
    "    predmnb = mnb.predict(X2_test)\n",
    "    score_mnb = accuracy_score(predmnb,y2_test)\n",
    "    f1_mnb = f1_score(predmnb, y2_test)\n",
    "    cmmnb = confusion_matrix(y2_test, predmnb)\n",
    "    cm22.append(cmmnb)\n",
    "    acc_mnb.append(score_mnb)\n",
    "    f1mnb2.append(f1_mnb)\n",
    "    \"\"\"\n",
    "    \"\"\"\n",
    "    predknn = knn.predict(X2_test)\n",
    "    score_knn = accuracy_score(predknn,y2_test)\n",
    "    f1_knn = f1_score(predknn, y2_test)\n",
    "    cmknn = confusion_matrix(y2_test,predknn)\n",
    "    cm32.append(cmknn)\n",
    "    acc_knn.append(score_knn)\n",
    "    f1knn2.append(f1_knn)\n",
    "    \n",
    "    \"\"\"\n",
    "    prednn = nn.predict(X2_test)\n",
    "    score_nn = accuracy_score(prednn,y2_test)\n",
    "    f1_nn = f1_score(prednn, y2_test)\n",
    "    print(\"NN loss for fold \", i ,\" : \", nn.loss_)\n",
    "    acc_nn.append(score_knn)\n",
    "    cmnn = confusion_matrix(y2_test,prednn)\n",
    "    cm42.append(cmnn)\n",
    "    f1nn2.append(f1_nn)\n",
    "    \"\"\"\n",
    "    predlgr = lgr.predict(X2_test)\n",
    "    score_lgr = accuracy_score(predlgr, y2_test)\n",
    "    f1_lgr = f1_score(predlgr, y2_test)\n",
    "    f1lgr2.append(f1_lgr)\n",
    "    acc_lgr.append(score_lgr)\n",
    "    cmlgr = confusion_matrix(y2_test, predlgr)\n",
    "    cm62.append(cmlgr)\n",
    "    \"\"\"\n",
    "    \"\"\"\n",
    "    preddtc = dtc.predict(X2_test)\n",
    "    score_dtc = accuracy_score(preddtc,y2_test)\n",
    "    f1_dtc = f1_score(preddtc, y2_test)\n",
    "    acc_dtc.append(score_dtc)\n",
    "    cmdtc = confusion_matrix(y2_test,preddtc)\n",
    "    cm52.append(cmdtc)\n",
    "    f1dtc2.append(f1_dtc)\n",
    "    \"\"\"\n",
    "    i +=1"
   ]
  },
  {
   "cell_type": "code",
   "execution_count": 161,
   "id": "21cbdb90",
   "metadata": {},
   "outputs": [
    {
     "name": "stdout",
     "output_type": "stream",
     "text": [
      "K=10 kFold gnb acc:  0.5277833999112295\n",
      "K=10 kFold gnb CM:  [[1483 2824]\n",
      " [ 719 2477]]\n",
      "K=5 kFold dtc F1:  0.5838235685588861\n"
     ]
    }
   ],
   "source": [
    "print(\"K=10 kFold gnb acc: \" , np.array(acc_gnb).mean())\n",
    "print(\"K=10 kFold gnb CM: \", sum(cm12))\n",
    "print(\"K=5 kFold gnb F1: \" , np.array(f1gnb2).mean())"
   ]
  },
  {
   "cell_type": "code",
   "execution_count": 162,
   "id": "4c8015d4",
   "metadata": {},
   "outputs": [
    {
     "name": "stdout",
     "output_type": "stream",
     "text": [
      "K=10 kFold mnb acc:  0.6629363515312916\n",
      "K=10 kFold mnb CM:  [[2851 1456]\n",
      " [1073 2123]]\n",
      "K=5 kFold dtc F1:  0.624984993980272\n"
     ]
    }
   ],
   "source": [
    "print(\"K=10 kFold mnb acc: \" ,np.array(acc_mnb).mean())\n",
    "print(\"K=10 kFold mnb CM: \", sum(cm22))\n",
    "print(\"K=5 kFold mnb F1: \" , np.array(f1mnb2).mean())"
   ]
  },
  {
   "cell_type": "code",
   "execution_count": 184,
   "id": "533d9dbd",
   "metadata": {},
   "outputs": [
    {
     "name": "stdout",
     "output_type": "stream",
     "text": [
      "K=10 kFold knn acc:  0.5952344429649357\n",
      "K=10 kFold knn CM:  [[3791  516]\n",
      " [2521  675]]\n",
      "K=5 kFold knn F1:  0.3064211526906848\n"
     ]
    }
   ],
   "source": [
    "print(\"K=10 kFold knn acc: \" , np.array(acc_knn).mean())\n",
    "print(\"K=10 kFold knn CM: \", sum(cm32))\n",
    "print(\"K=5 kFold knn F1: \" , np.array(f1knn2).mean())"
   ]
  },
  {
   "cell_type": "code",
   "execution_count": 188,
   "id": "f0261ec5",
   "metadata": {},
   "outputs": [
    {
     "name": "stdout",
     "output_type": "stream",
     "text": [
      "K=10 kFold Perceptron acc:  0.6706666666666666\n",
      "K=10 kFold Perceptron CM:  [[2728 1579]\n",
      " [1412 1784]]\n",
      "K=5 kFold Perceptron F1:  0.5427247314623501\n"
     ]
    }
   ],
   "source": [
    "print(\"K=10 kFold Perceptron acc: \" , np.array(acc_nn).mean())\n",
    "print(\"K=10 kFold Perceptron CM: \", sum(cm42))\n",
    "print(\"K=5 kFold Perceptron F1: \" , np.array(f1nn2).mean())"
   ]
  },
  {
   "cell_type": "code",
   "execution_count": 169,
   "id": "c4e07a87",
   "metadata": {},
   "outputs": [
    {
     "name": "stdout",
     "output_type": "stream",
     "text": [
      "K=10 kFold dtc acc:  0.5677645805592543\n",
      "K=10 kFold dtc CM:  [[3246 1061]\n",
      " [2182 1014]]\n",
      "K=5 kFold dtc F1:  0.38705716280344715\n"
     ]
    }
   ],
   "source": [
    "print(\"K=10 kFold dtc acc: \" , np.array(acc_dtc).mean())\n",
    "print(\"K=10 kFold dtc CM: \", sum(cm52))\n",
    "print(\"K=5 kFold dtc F1: \" , np.array(f1dtc2).mean())"
   ]
  },
  {
   "cell_type": "code",
   "execution_count": 159,
   "id": "3ab2a968",
   "metadata": {},
   "outputs": [
    {
     "name": "stdout",
     "output_type": "stream",
     "text": [
      "K=10 kFold Logistic Regression acc:  0.6240246782068353\n",
      "K=10 kFold Logistic Regression CM:  [[6096 2518]\n",
      " [2669 3723]]\n",
      "K=10 kFold Logistic Regression F1:  0.5801130834355281\n"
     ]
    }
   ],
   "source": [
    "print(\"K=10 kFold Logistic Regression acc: \" , np.array(acc_lgr).mean())\n",
    "print(\"K=10 kFold Logistic Regression CM: \", sum(cm10))\n",
    "print(\"K=10 kFold Logistic Regression F1: \" , np.array(f1lgr).mean())"
   ]
  },
  {
   "cell_type": "code",
   "execution_count": null,
   "id": "62df84a9",
   "metadata": {},
   "outputs": [],
   "source": []
  }
 ],
 "metadata": {
  "kernelspec": {
   "display_name": "Python 3 (ipykernel)",
   "language": "python",
   "name": "python3"
  },
  "language_info": {
   "codemirror_mode": {
    "name": "ipython",
    "version": 3
   },
   "file_extension": ".py",
   "mimetype": "text/x-python",
   "name": "python",
   "nbconvert_exporter": "python",
   "pygments_lexer": "ipython3",
   "version": "3.9.7"
  }
 },
 "nbformat": 4,
 "nbformat_minor": 5
}
